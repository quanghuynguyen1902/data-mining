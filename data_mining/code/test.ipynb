{
 "cells": [
  {
   "cell_type": "code",
   "execution_count": 1,
   "metadata": {},
   "outputs": [],
   "source": [
    "import pandas as pd\n",
    "import numpy as np\n",
    "import matplotlib\n",
    "import matplotlib.pyplot as plt\n",
    "import seaborn as sns\n",
    "from nltk.tokenize import word_tokenize\n",
    "from nltk import pos_tag\n",
    "from sklearn.preprocessing import LabelEncoder\n",
    "from collections import defaultdict\n",
    "from sklearn.feature_extraction.text import TfidfVectorizer\n",
    "from sklearn.metrics import accuracy_score\n",
    "from sklearn.metrics import confusion_matrix\n",
    "from sklearn import model_selection, svm\n",
    "import pickle"
   ]
  },
  {
   "cell_type": "code",
   "execution_count": 4,
   "metadata": {},
   "outputs": [],
   "source": [
    "# read data from folder\n",
    "test_data = pd.read_csv('../data/test/test_data_removedStopWord.csv')"
   ]
  },
  {
   "cell_type": "code",
   "execution_count": 5,
   "metadata": {},
   "outputs": [
    {
     "name": "stdout",
     "output_type": "stream",
     "text": [
      "   id                                            content\n",
      "0   0  gấp hiện thuê phòng diện_tích m m khu_vực yên ...\n",
      "1   1  chào noel đón mưa quà tặng noel viettel triển_...\n",
      "2   2  khởi_công xây_dựng phố liền kề triệu căn_cơ hộ...\n",
      "3   3  hôm_nay btc vui sách tài_trợ nhà_sách nhã nam ...\n",
      "4   4  thuê căn_hộ chung_cư sài đồng đối_diện vimhom ...\n"
     ]
    }
   ],
   "source": [
    "# rename column\n",
    "test_data.rename( columns={'Unnamed: 0':'id'}, inplace=True )\n",
    "print(test_data.head(5))"
   ]
  },
  {
   "cell_type": "code",
   "execution_count": 6,
   "metadata": {},
   "outputs": [],
   "source": [
    "# Load lable encoder  from file\n",
    "with open('../model/labelEncoder.pkl', 'rb') as file:\n",
    "    Encoder = pickle.load(file)\n",
    "    \n",
    "with open('../model/tfidf_vect.pkl', 'rb') as file:\n",
    "    tfidf = pickle.load(file)\n",
    "\n",
    "# Load model from file\n",
    "with open(\"../model/pickle_model.pkl\", 'rb') as file:\n",
    "    model = pickle.load(file)"
   ]
  },
  {
   "cell_type": "code",
   "execution_count": 7,
   "metadata": {},
   "outputs": [],
   "source": [
    "test = tfidf.transform(test_data['content'])"
   ]
  },
  {
   "cell_type": "code",
   "execution_count": 8,
   "metadata": {},
   "outputs": [
    {
     "name": "stdout",
     "output_type": "stream",
     "text": [
      "  (0, 9254)\t0.26545243232158167\n",
      "  (0, 9105)\t0.25698988640356807\n",
      "  (0, 8303)\t0.22831194954606768\n",
      "  (0, 7728)\t0.1841319229838128\n",
      "  (0, 7149)\t0.3449701792347712\n",
      "  (0, 6873)\t0.2589504224915287\n",
      "  (0, 5888)\t0.14750736369969145\n",
      "  (0, 5055)\t0.2427740163066761\n",
      "  (0, 4071)\t0.363389370121169\n",
      "  (0, 3686)\t0.23761377260849417\n",
      "  (0, 3462)\t0.18742835125320184\n",
      "  (0, 2733)\t0.2246869429297687\n",
      "  (0, 2605)\t0.23888365751910073\n",
      "  (0, 2503)\t0.22537755068011142\n",
      "  (0, 2391)\t0.1262476211266879\n",
      "  (0, 1906)\t0.1970715774444125\n",
      "  (0, 73)\t0.2719210230944086\n",
      "  (1, 9995)\t0.08160872661488369\n",
      "  (1, 9942)\t0.07114143618843495\n",
      "  (1, 9583)\t0.1842480594076289\n",
      "  (1, 9547)\t0.2666181473013591\n",
      "  (1, 9543)\t0.07634867901471579\n",
      "  (1, 8737)\t0.19618337783393777\n",
      "  (1, 8681)\t0.47345829547238744\n",
      "  (1, 8432)\t0.11286635799675167\n",
      "  :\t:\n",
      "  (10016, 9045)\t0.17194033739437606\n",
      "  (10016, 8072)\t0.21892699183140138\n",
      "  (10016, 7728)\t0.11619698893341207\n",
      "  (10016, 7177)\t0.17979411378497878\n",
      "  (10016, 7112)\t0.2613816027123343\n",
      "  (10016, 5892)\t0.23905576837017586\n",
      "  (10016, 5888)\t0.27925486080297907\n",
      "  (10016, 5325)\t0.19475541571425928\n",
      "  (10016, 5255)\t0.23986873749216642\n",
      "  (10016, 5069)\t0.10948358001492499\n",
      "  (10016, 4669)\t0.1368228286459561\n",
      "  (10016, 4555)\t0.13100632495155065\n",
      "  (10016, 4232)\t0.14982521305055715\n",
      "  (10016, 3879)\t0.16165725882732784\n",
      "  (10016, 3610)\t0.1717107711439965\n",
      "  (10016, 3518)\t0.1422739274436258\n",
      "  (10016, 3253)\t0.14485685765726267\n",
      "  (10016, 3177)\t0.1839358249924115\n",
      "  (10016, 2505)\t0.14922328853033945\n",
      "  (10016, 2391)\t0.07966893082530273\n",
      "  (10016, 1871)\t0.19176778804880773\n",
      "  (10016, 1750)\t0.16771776785683\n",
      "  (10016, 1715)\t0.17069619141372577\n",
      "  (10016, 1082)\t0.17609617553727203\n",
      "  (10016, 446)\t0.1982719664349905\n"
     ]
    }
   ],
   "source": [
    "print(test)"
   ]
  },
  {
   "cell_type": "code",
   "execution_count": 9,
   "metadata": {},
   "outputs": [],
   "source": [
    "# predict the labels on validation dataset\n",
    "predictions_SVM = model.predict(test)"
   ]
  },
  {
   "cell_type": "code",
   "execution_count": 10,
   "metadata": {},
   "outputs": [
    {
     "name": "stdout",
     "output_type": "stream",
     "text": [
      "[15 11 15 ...  5  4 15]\n"
     ]
    }
   ],
   "source": [
    "print(predictions_SVM)"
   ]
  },
  {
   "cell_type": "code",
   "execution_count": 11,
   "metadata": {},
   "outputs": [],
   "source": [
    "label = Encoder.inverse_transform(predictions_SVM)"
   ]
  },
  {
   "cell_type": "code",
   "execution_count": 15,
   "metadata": {},
   "outputs": [],
   "source": [
    "for i in range(len(label)):\n",
    "    label[i] = '__label__' + label[i]"
   ]
  },
  {
   "cell_type": "code",
   "execution_count": 18,
   "metadata": {},
   "outputs": [],
   "source": [
    "dictt = {'label':label}\n",
    "df = pd.DataFrame(dictt) \n",
    "df.to_csv('../result/result.csv', index=False) "
   ]
  },
  {
   "cell_type": "code",
   "execution_count": null,
   "metadata": {},
   "outputs": [],
   "source": []
  }
 ],
 "metadata": {
  "kernelspec": {
   "display_name": "Python 3",
   "language": "python",
   "name": "python3"
  },
  "language_info": {
   "codemirror_mode": {
    "name": "ipython",
    "version": 3
   },
   "file_extension": ".py",
   "mimetype": "text/x-python",
   "name": "python",
   "nbconvert_exporter": "python",
   "pygments_lexer": "ipython3",
   "version": "3.6.8"
  }
 },
 "nbformat": 4,
 "nbformat_minor": 2
}
